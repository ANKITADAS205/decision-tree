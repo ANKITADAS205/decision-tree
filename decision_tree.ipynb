{
  "nbformat": 4,
  "nbformat_minor": 0,
  "metadata": {
    "colab": {
      "provenance": []
    },
    "kernelspec": {
      "name": "python3",
      "display_name": "Python 3"
    },
    "language_info": {
      "name": "python"
    }
  },
  "cells": [
    {
      "cell_type": "code",
      "execution_count": null,
      "metadata": {
        "id": "dvdJM0GTl3_i"
      },
      "outputs": [],
      "source": []
    },
    {
      "cell_type": "markdown",
      "source": [
        "# **1.**\n",
        "\n",
        "A Decision Tree is a flowchart-like structure used for classification and regression. It splits the data based on conditions (like yes/no questions) at each node. The root is the starting point, internal nodes contain conditions, branches represent outcomes, and leaf nodes give the final prediction. The process continues until the data is fully separated or a stopping rule is met.\n",
        "# **2.**\n",
        "\n",
        "Impurity measures determine how mixed the classes are at a node. They help in choosing the best feature to split the data. Lower impurity means purer data, which leads to better decisions. Common measures include Gini Impurity and Entropy for classification, and Variance for regression.\n",
        "# **3.**\n",
        "\n",
        "The formula for Gini Impurity is:\n",
        "\n",
        "$$\n",
        "\\text{Gini} = 1 - \\sum_{i=1}^{n} p_i^2\n",
        "$$\n",
        "\n",
        "where $p_i$ is the probability of class $i$. A Gini of 0 means all data points at the node belong to a single class.\n",
        "# **4.**\n",
        "\n",
        "The formula for Entropy is:\n",
        "\n",
        "$$\n",
        "\\text{Entropy} = -\\sum_{i=1}^{n} p_i \\log_2(p_i)\n",
        "$$\n",
        "\n",
        "where $p_i$ is the probability of class $i$. Entropy is zero when the data at the node is pure.\n",
        "# **5.**\n",
        "\n",
        "Information Gain is the reduction in impurity after a dataset is split. It is calculated as:\n",
        "# **6.**\n",
        "\n",
        "Gini Impurity is quicker to compute and is used in CART (Classification and Regression Tree) algorithms. Entropy is based on information theory and is used in ID3, C4.5, and similar algorithms. Both serve the same purpose: to find the best splits by measuring impurity.\n",
        "# **7.**\n",
        "\n",
        "A Decision Tree builds itself by selecting the best feature to split the dataset using impurity measures. At each node, it chooses the feature that results in the greatest reduction in impurity. This is done recursively until stopping criteria like maximum depth or minimum samples are met.\n",
        "# **8.**\n",
        "\n",
        "Pre-Pruning stops the tree from growing too much by applying limits during training. Examples include setting the maximum depth, requiring a minimum number of samples to split, or setting a minimum impurity decrease. This helps prevent overfitting.\n",
        "# **9.**\n",
        "\n",
        "Post-Pruning allows the tree to grow fully and then removes branches that do not improve performance. It uses validation data to check whether cutting certain branches increases accuracy or generalization.\n",
        "# **10.**\n",
        "\n",
        "Pre-Pruning controls tree growth from the beginning by setting rules in advance. Post-Pruning first allows the tree to overgrow and then trims it based on performance. Pre-Pruning is proactive, while Post-Pruning is corrective.\n",
        "# **11.**\n",
        "\n",
        "A Decision Tree Regressor is used for predicting continuous numerical values. Instead of classifying data into categories, it splits data to minimize the variance (spread) of values in each group, predicting average values at the leaves.\n",
        "# **12.**\n",
        "\n",
        "**Advantages** include:\n",
        "\n",
        "* Easy to understand and interpret.\n",
        "* Works on both classification and regression.\n",
        "* Handles both numerical and categorical data.\n",
        "* Requires little data preprocessing.\n",
        "\n",
        "**Disadvantages** include:\n",
        "\n",
        "* Prone to overfitting if not pruned.\n",
        "* Can be unstable with small data changes.\n",
        "* Less accurate compared to ensemble methods like Random Forest.\n",
        "\n",
        "#13.\n",
        "\n",
        "Missing values are handled by:\n",
        "\n",
        "* Using surrogate splits (alternative features).\n",
        "* Assigning the most common value.\n",
        "* Splitting based on available values while estimating the missing ones.\n",
        "\n",
        "#14.\n",
        "\n",
        "Categorical features are handled by:\n",
        "\n",
        "* Splitting the data based on each category.\n",
        "* Grouping categories that give the best split.\n",
        "* Encoding methods like one-hot encoding or label encoding before model training.\n",
        "\n",
        "#**15.**\n",
        "\n",
        "Real-world applications of Decision Trees include:\n",
        "\n",
        "* Medical diagnosis (predicting disease based on symptoms).\n",
        "* Loan approval (classifying applicants as risky or safe).\n",
        "* Fraud detection (detecting unusual transaction patterns).\n",
        "* Customer segmentation (grouping users by behavior or preferences).\n",
        "* Predictive maintenance in manufacturing.\n",
        "\n"
      ],
      "metadata": {
        "id": "zifWLliWl4qn"
      }
    },
    {
      "cell_type": "code",
      "source": [
        "#1\n",
        "from sklearn.datasets import load_iris\n",
        "from sklearn.model_selection import train_test_split\n",
        "from sklearn.tree import DecisionTreeClassifier\n",
        "\n",
        "iris = load_iris()\n",
        "X_train, X_test, y_train, y_test = train_test_split(iris.data, iris.target, random_state=42)\n",
        "clf = DecisionTreeClassifier()\n",
        "clf.fit(X_train, y_train)\n",
        "print(\"1. Accuracy (Default Tree):\", clf.score(X_test, y_test))\n"
      ],
      "metadata": {
        "colab": {
          "base_uri": "https://localhost:8080/"
        },
        "id": "IdPFpHwDmgZT",
        "outputId": "f1d61762-f2af-454b-a314-b284c3936a92"
      },
      "execution_count": 1,
      "outputs": [
        {
          "output_type": "stream",
          "name": "stdout",
          "text": [
            "1. Accuracy (Default Tree): 1.0\n"
          ]
        }
      ]
    },
    {
      "cell_type": "code",
      "source": [
        "#2\n",
        "clf_gini = DecisionTreeClassifier(criterion='gini')\n",
        "clf_gini.fit(X_train, y_train)\n",
        "print(\"2. Feature importances (Gini):\", clf_gini.feature_importances_)\n"
      ],
      "metadata": {
        "colab": {
          "base_uri": "https://localhost:8080/"
        },
        "id": "-9ejGJFtmhiM",
        "outputId": "ec5b9143-7a9b-4e19-ce37-64628ba621e0"
      },
      "execution_count": 2,
      "outputs": [
        {
          "output_type": "stream",
          "name": "stdout",
          "text": [
            "2. Feature importances (Gini): [0.01787567 0.01787567 0.88187037 0.08237829]\n"
          ]
        }
      ]
    },
    {
      "cell_type": "code",
      "source": [
        "#3\n",
        "clf_entropy = DecisionTreeClassifier(criterion='entropy')\n",
        "clf_entropy.fit(X_train, y_train)\n",
        "print(\"3. Accuracy (Entropy):\", clf_entropy.score(X_test, y_test))\n"
      ],
      "metadata": {
        "colab": {
          "base_uri": "https://localhost:8080/"
        },
        "id": "FbFXxn9kmheu",
        "outputId": "85ded189-d909-4136-c23b-d3af5e438bb6"
      },
      "execution_count": 3,
      "outputs": [
        {
          "output_type": "stream",
          "name": "stdout",
          "text": [
            "3. Accuracy (Entropy): 0.9736842105263158\n"
          ]
        }
      ]
    },
    {
      "cell_type": "code",
      "source": [
        "#5\n",
        "from sklearn.tree import export_graphviz\n",
        "import graphviz\n",
        "\n",
        "dot_data = export_graphviz(clf, out_file=None, feature_names=iris.feature_names, class_names=iris.target_names, filled=True)\n",
        "graph = graphviz.Source(dot_data)\n",
        "graph.render(\"5_decision_tree\")\n"
      ],
      "metadata": {
        "colab": {
          "base_uri": "https://localhost:8080/",
          "height": 35
        },
        "id": "6s4M1M8Cmhck",
        "outputId": "3e50b00e-3e21-49a1-ee2b-f818940df0ab"
      },
      "execution_count": 5,
      "outputs": [
        {
          "output_type": "execute_result",
          "data": {
            "text/plain": [
              "'5_decision_tree.pdf'"
            ],
            "application/vnd.google.colaboratory.intrinsic+json": {
              "type": "string"
            }
          },
          "metadata": {},
          "execution_count": 5
        }
      ]
    },
    {
      "cell_type": "code",
      "source": [
        "#6\n",
        "clf_depth3 = DecisionTreeClassifier(max_depth=3)\n",
        "clf_depth3.fit(X_train, y_train)\n",
        "print(\"6. Accuracy (max_depth=3):\", clf_depth3.score(X_test, y_test))\n",
        "print(\"   Accuracy (full tree):\", clf.score(X_test, y_test))\n"
      ],
      "metadata": {
        "colab": {
          "base_uri": "https://localhost:8080/"
        },
        "id": "HtcMyCHomhaO",
        "outputId": "4dcb3db2-dba2-4c4a-e8cf-e11bd0619a0e"
      },
      "execution_count": 6,
      "outputs": [
        {
          "output_type": "stream",
          "name": "stdout",
          "text": [
            "6. Accuracy (max_depth=3): 1.0\n",
            "   Accuracy (full tree): 1.0\n"
          ]
        }
      ]
    },
    {
      "cell_type": "code",
      "source": [
        "#7\n",
        "clf_min_split = DecisionTreeClassifier(min_samples_split=5)\n",
        "clf_min_split.fit(X_train, y_train)\n",
        "print(\"7. Accuracy (min_samples_split=5):\", clf_min_split.score(X_test, y_test))\n",
        "print(\"   Accuracy (default split):\", clf.score(X_test, y_test))\n"
      ],
      "metadata": {
        "colab": {
          "base_uri": "https://localhost:8080/"
        },
        "id": "3vMkU5GGmhXq",
        "outputId": "7ab7fa4b-0e8e-4ef0-b888-09a3d5cddcfc"
      },
      "execution_count": 7,
      "outputs": [
        {
          "output_type": "stream",
          "name": "stdout",
          "text": [
            "7. Accuracy (min_samples_split=5): 1.0\n",
            "   Accuracy (default split): 1.0\n"
          ]
        }
      ]
    },
    {
      "cell_type": "code",
      "source": [
        "#8\n",
        "from sklearn.preprocessing import StandardScaler\n",
        "\n",
        "scaler = StandardScaler()\n",
        "X_train_scaled = scaler.fit_transform(X_train)\n",
        "X_test_scaled = scaler.transform(X_test)\n",
        "clf_scaled = DecisionTreeClassifier()\n",
        "clf_scaled.fit(X_train_scaled, y_train)\n",
        "print(\"8. Accuracy (scaled):\", clf_scaled.score(X_test_scaled, y_test))\n",
        "print(\"   Accuracy (unscaled):\", clf.score(X_test, y_test))\n"
      ],
      "metadata": {
        "colab": {
          "base_uri": "https://localhost:8080/"
        },
        "id": "mSvhjJ7YmhVM",
        "outputId": "72412211-bb8d-4399-9875-69e35336b62a"
      },
      "execution_count": 8,
      "outputs": [
        {
          "output_type": "stream",
          "name": "stdout",
          "text": [
            "8. Accuracy (scaled): 1.0\n",
            "   Accuracy (unscaled): 1.0\n"
          ]
        }
      ]
    },
    {
      "cell_type": "code",
      "source": [
        "#9\n",
        "from sklearn.multiclass import OneVsRestClassifier\n",
        "\n",
        "ovr_clf = OneVsRestClassifier(DecisionTreeClassifier())\n",
        "ovr_clf.fit(X_train, y_train)\n",
        "print(\"9. Accuracy (OvR strategy):\", ovr_clf.score(X_test, y_test))\n"
      ],
      "metadata": {
        "colab": {
          "base_uri": "https://localhost:8080/"
        },
        "id": "DWqesqOqmhSl",
        "outputId": "1a164e5c-19ba-472d-aea9-7bbcd1d109a9"
      },
      "execution_count": 9,
      "outputs": [
        {
          "output_type": "stream",
          "name": "stdout",
          "text": [
            "9. Accuracy (OvR strategy): 1.0\n"
          ]
        }
      ]
    },
    {
      "cell_type": "code",
      "source": [
        "#12\n",
        "path = clf.cost_complexity_pruning_path(X_train, y_train)\n",
        "ccp_alphas = path.ccp_alphas\n",
        "print(\"12. CCP Alphas and Accuracies:\")\n",
        "for alpha in ccp_alphas:\n",
        "    clf_ccp = DecisionTreeClassifier(ccp_alpha=alpha)\n",
        "    clf_ccp.fit(X_train, y_train)\n",
        "    print(f\"   Alpha: {alpha:.5f} -> Accuracy: {clf_ccp.score(X_test, y_test):.4f}\")\n"
      ],
      "metadata": {
        "colab": {
          "base_uri": "https://localhost:8080/"
        },
        "id": "aZpAU9YEnC5X",
        "outputId": "38e8a7c2-510f-458a-f933-db86611cead3"
      },
      "execution_count": 10,
      "outputs": [
        {
          "output_type": "stream",
          "name": "stdout",
          "text": [
            "12. CCP Alphas and Accuracies:\n",
            "   Alpha: 0.00000 -> Accuracy: 1.0000\n",
            "   Alpha: 0.00867 -> Accuracy: 1.0000\n",
            "   Alpha: 0.01190 -> Accuracy: 1.0000\n",
            "   Alpha: 0.01735 -> Accuracy: 1.0000\n",
            "   Alpha: 0.02561 -> Accuracy: 0.9737\n",
            "   Alpha: 0.24769 -> Accuracy: 0.6842\n",
            "   Alpha: 0.32228 -> Accuracy: 0.2895\n"
          ]
        }
      ]
    },
    {
      "cell_type": "code",
      "source": [
        "#13\n",
        "from sklearn.metrics import precision_score, recall_score, f1_score\n",
        "\n",
        "y_pred = clf.predict(X_test)\n",
        "print(\"13. Precision:\", precision_score(y_test, y_pred, average='macro'))\n",
        "print(\"    Recall:\", recall_score(y_test, y_pred, average='macro'))\n",
        "print(\"    F1-Score:\", f1_score(y_test, y_pred, average='macro'))\n"
      ],
      "metadata": {
        "colab": {
          "base_uri": "https://localhost:8080/"
        },
        "id": "iYMEAe_unCsD",
        "outputId": "d4914896-1b48-4b1e-86c8-b2f5e3b7909f"
      },
      "execution_count": 11,
      "outputs": [
        {
          "output_type": "stream",
          "name": "stdout",
          "text": [
            "13. Precision: 1.0\n",
            "    Recall: 1.0\n",
            "    F1-Score: 1.0\n"
          ]
        }
      ]
    },
    {
      "cell_type": "code",
      "source": [
        "#14\n",
        "from sklearn.metrics import confusion_matrix\n",
        "import seaborn as sns\n",
        "import matplotlib.pyplot as plt\n",
        "\n",
        "cm = confusion_matrix(y_test, y_pred)\n",
        "sns.heatmap(cm, annot=True, fmt='d', cmap='Blues')\n",
        "plt.title(\"14. Confusion Matrix\")\n",
        "plt.xlabel(\"Predicted\")\n",
        "plt.ylabel(\"Actual\")\n",
        "plt.show()\n"
      ],
      "metadata": {
        "colab": {
          "base_uri": "https://localhost:8080/",
          "height": 472
        },
        "id": "1fUfgeCEnCez",
        "outputId": "f19be968-7da4-45ff-b56a-5804ed6a49fb"
      },
      "execution_count": 12,
      "outputs": [
        {
          "output_type": "display_data",
          "data": {
            "text/plain": [
              "<Figure size 640x480 with 2 Axes>"
            ],
            "image/png": "[encoded data removed]"
          },
          "metadata": {}
        }
      ]
    },
    {
      "cell_type": "code",
      "source": [
        "#15\n",
        "from sklearn.model_selection import GridSearchCV\n",
        "\n",
        "param_grid = {'max_depth': [2, 3, 4, 5], 'min_samples_split': [2, 4, 6]}\n",
        "grid = GridSearchCV(DecisionTreeClassifier(), param_grid, cv=5)\n",
        "grid.fit(X_train, y_train)\n",
        "\n",
        "print(\"15. Best parameters:\", grid.best_params_)\n",
        "print(\"    Best CV accuracy:\", grid.best_score_)\n"
      ],
      "metadata": {
        "colab": {
          "base_uri": "https://localhost:8080/"
        },
        "id": "cTeTr6KBnCbk",
        "outputId": "928fd139-5934-49f8-f380-f7ca406c931d"
      },
      "execution_count": 13,
      "outputs": [
        {
          "output_type": "stream",
          "name": "stdout",
          "text": [
            "15. Best parameters: {'max_depth': 4, 'min_samples_split': 6}\n",
            "    Best CV accuracy: 0.9371541501976285\n"
          ]
        }
      ]
    }
  ]
}